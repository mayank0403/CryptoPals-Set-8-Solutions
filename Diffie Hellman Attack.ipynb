{
 "cells": [
  {
   "cell_type": "code",
   "execution_count": 46,
   "metadata": {
    "collapsed": true
   },
   "outputs": [],
   "source": [
    "p = 7199773997391911030609999317773941274322764333428698921736339643928346453700085358802973900485592910475480089726140708102474957429903531369589969318716771\n",
    "g = 4565356397095740655436854503483826832136106141639563487732438195343690437606117828318042418238184896212352329118608100083187535033402010599512641674644143\n",
    "q = 236234353446506858198510045061214171961"
   ]
  },
  {
   "cell_type": "code",
   "execution_count": 47,
   "metadata": {
    "collapsed": false
   },
   "outputs": [],
   "source": [
    "g = mod(g, p)\n",
    "\n",
    "def fermatproof(g):\n",
    "    assert (bool(g^(p-1) == mod(1, p))), \"Fermat fails!\"\n",
    "\n",
    "fermatproof(g)"
   ]
  },
  {
   "cell_type": "code",
   "execution_count": 76,
   "metadata": {
    "collapsed": false
   },
   "outputs": [
    {
     "name": "stdout",
     "output_type": "stream",
     "text": [
      "2 * 3^2 * 5 * 109 * 7963 * 8539 * 20641 * 38833 * 39341 * 46337 * 51977 * 54319 * 57529 * 96142199 * 46323892554437 * 534232641372537546151 * 80913087354323463709999234471\n",
      "[2, 3, 5, 109, 7963, 8539, 20641, 38833, 39341, 46337, 51977, 54319, 57529]\n"
     ]
    }
   ],
   "source": [
    "# checking the order of g\n",
    "\n",
    "def checkorder(g, o):\n",
    "    assert (bool(g^(o) == mod(1, p))), \"Incorrect order!\"\n",
    "\n",
    "checkorder(g, q)\n",
    "\n",
    "truncated_p = euler_phi(p)/q\n",
    "\n",
    "assert(truncated_p == 30477252323177606811760882179058908038824640750610513771646768011063128035873508507547741559514324673960576895059570), \"Error!\"\n",
    "\n",
    "fct = factor(truncated_p)\n",
    "\n",
    "print fct\n",
    "\n",
    "fct = list(fct)\n",
    "\n",
    "fct = [i[0] for i in list(filter(lambda x: x[0] < 2^16, fct))]\n",
    "\n",
    "print fct\n",
    "\n",
    "from sage.misc.prandom import randrange"
   ]
  },
  {
   "cell_type": "code",
   "execution_count": 106,
   "metadata": {
    "collapsed": false
   },
   "outputs": [
    {
     "name": "stdout",
     "output_type": "stream",
     "text": [
      "36898223402853432515384320874063349458\n",
      "36898223402853432515384320874063349458\n",
      "Successfully recovered the secret x. Hence, the scheme breaks.\n"
     ]
    }
   ],
   "source": [
    "# We now have all the small factors of the phi(p)\n",
    "\n",
    "# This is Bob's secret value\n",
    "x = randrange(p-1)+1\n",
    "x = (mod(x, q)).lift()\n",
    "\n",
    "def find_h(v):\n",
    "    a = mod(randrange(1, p), p)^((p-1)/v)\n",
    "    while(a == mod(1, p)):\n",
    "        a = mod(randrange(1, p), p)^((p-1)/v)\n",
    "    return a\n",
    "\n",
    "def findxmodr(hexp, h, v):\n",
    "    for a in range(1, v):\n",
    "        if(hexp == h^a):\n",
    "            return a\n",
    "    return 0\n",
    "\n",
    "# It stores all the values x mod r\n",
    "reducedval = []\n",
    "\n",
    "for i in fct:\n",
    "    h = find_h(i)\n",
    "    #print h\n",
    "    #This exp done by Bob\n",
    "    hexp = h^x\n",
    "    reducedval.append((findxmodr(hexp, h, i), i))\n",
    "    \n",
    "reducedval = list(filter(lambda x: x[0]>0 and x[1]!=3, reducedval))\n",
    "\n",
    "def crt(val):\n",
    "    val2 = [i[1] for i in val]\n",
    "    val3 = [i[0] for i in val]\n",
    "    n = (reduce(lambda x, y: x*y, val2))\n",
    "    assert(q < n), \"Not possible to reconstruct the secret!\"\n",
    "    ni = []\n",
    "    for i in val2:\n",
    "        va = n//i\n",
    "        ni.append(va)\n",
    "        #print gcd(euler_phi(p)/i, i)\n",
    "    answer = 0\n",
    "    for i in range(len(val2)):\n",
    "        assert(gcd(ni[i], val2[i]) == 1), \"Not coprime!\"\n",
    "        k = mod(ni[i], val2[i]).lift()\n",
    "        k = inverse_mod(k, val2[i])\n",
    "        answer += val3[i]*ni[i]*k\n",
    "    quotient = answer//n\n",
    "    qd = quotient*(n-q)\n",
    "    answer = answer - qd\n",
    "    return (mod(answer, q)).lift()\n",
    "\n",
    "assert(x == crt(reducedval)), \"Incorrect implementation\"\n",
    "print x\n",
    "print crt(reducedval)\n",
    "print \"Successfully recovered the secret x. Hence, the scheme breaks.\"\n",
    "\n",
    "\n"
   ]
  },
  {
   "cell_type": "code",
   "execution_count": null,
   "metadata": {
    "collapsed": true
   },
   "outputs": [],
   "source": []
  }
 ],
 "metadata": {
  "kernelspec": {
   "display_name": "SageMath 8.1",
   "language": "",
   "name": "sagemath"
  },
  "language_info": {
   "codemirror_mode": {
    "name": "ipython",
    "version": 2
   },
   "file_extension": ".py",
   "mimetype": "text/x-python",
   "name": "python",
   "nbconvert_exporter": "python",
   "pygments_lexer": "ipython2",
   "version": "2.7.14"
  }
 },
 "nbformat": 4,
 "nbformat_minor": 2
}
